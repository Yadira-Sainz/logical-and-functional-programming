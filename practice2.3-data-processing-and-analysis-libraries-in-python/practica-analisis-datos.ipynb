{
 "cells": [
  {
   "cell_type": "markdown",
   "id": "50264bc6",
   "metadata": {},
   "source": [
    "\n",
    "# Práctica 2 — Bibliotecas de Procesamiento y Análisis de Datos en Python\n",
    "\n",
    "**Objetivo:** Familiarizarse con **Pandas**, **NumPy** y **Dask** para manipular, analizar y procesar datos (incluyendo datos grandes) de manera eficiente.\n",
    "\n",
    "> **Estructura del notebook:** Cada sección incluye un **título**, **instrucciones** y **celdas de código** listas para ejecutar.\n"
   ]
  },
  {
   "cell_type": "markdown",
   "id": "ab3bfe3d",
   "metadata": {},
   "source": [
    "\n",
    "## Parte 1 — Preparación del entorno\n",
    "\n",
    "### 1.1 Instalación de bibliotecas\n"
   ]
  },
  {
   "cell_type": "code",
   "execution_count": 12,
   "id": "44b6512b",
   "metadata": {},
   "outputs": [],
   "source": [
    "# pip install --upgrade pip\n",
    "# pip install pandas numpy \"dask[dataframe]\" jupyter\n",
    "\n"
   ]
  },
  {
   "cell_type": "markdown",
   "id": "93265804",
   "metadata": {},
   "source": [
    "\n",
    "### 1.2 Verificación de instalación\n",
    "\n",
    "python -m pip list\n"
   ]
  },
  {
   "cell_type": "code",
   "execution_count": 14,
   "id": "0b05a978",
   "metadata": {},
   "outputs": [
    {
     "name": "stdout",
     "output_type": "stream",
     "text": [
      "Todas las bibliotecas se han cargado correctamente: Pandas 2.3.3 / NumPy 2.3.4\n"
     ]
    }
   ],
   "source": [
    "\n",
    "import pandas as pd\n",
    "import numpy as np\n",
    "import dask.dataframe as dd\n",
    "\n",
    "print(\"Todas las bibliotecas se han cargado correctamente:\",\n",
    "      f\"Pandas {pd.__version__} / NumPy {np.__version__}\")\n"
   ]
  },
  {
   "cell_type": "markdown",
   "id": "649cfef0",
   "metadata": {},
   "source": [
    "\n",
    "## Parte 2 — Manipulación de datos con Pandas\n",
    "\n",
    "> En esta sección trabajaremos con **`empleados.csv`** (archivo pequeño).\n",
    "\n",
    "### 2.1 Cargar un Conjunto de Datos\n"
   ]
  },
  {
   "cell_type": "code",
   "execution_count": 16,
   "id": "c664841f",
   "metadata": {},
   "outputs": [
    {
     "name": "stdout",
     "output_type": "stream",
     "text": [
      "Dataset cargado. Dimensiones: (10, 6)\n"
     ]
    },
    {
     "data": {
      "text/html": [
       "<div>\n",
       "<style scoped>\n",
       "    .dataframe tbody tr th:only-of-type {\n",
       "        vertical-align: middle;\n",
       "    }\n",
       "\n",
       "    .dataframe tbody tr th {\n",
       "        vertical-align: top;\n",
       "    }\n",
       "\n",
       "    .dataframe thead th {\n",
       "        text-align: right;\n",
       "    }\n",
       "</style>\n",
       "<table border=\"1\" class=\"dataframe\">\n",
       "  <thead>\n",
       "    <tr style=\"text-align: right;\">\n",
       "      <th></th>\n",
       "      <th>nombre</th>\n",
       "      <th>edad</th>\n",
       "      <th>departamento</th>\n",
       "      <th>salario_mensual</th>\n",
       "      <th>fecha_contratacion</th>\n",
       "      <th>estado_civil</th>\n",
       "    </tr>\n",
       "  </thead>\n",
       "  <tbody>\n",
       "    <tr>\n",
       "      <th>0</th>\n",
       "      <td>Juan Pérez</td>\n",
       "      <td>28</td>\n",
       "      <td>Recursos Humanos</td>\n",
       "      <td>4500</td>\n",
       "      <td>2019-05-10</td>\n",
       "      <td>Casado</td>\n",
       "    </tr>\n",
       "    <tr>\n",
       "      <th>1</th>\n",
       "      <td>María López</td>\n",
       "      <td>34</td>\n",
       "      <td>Marketing</td>\n",
       "      <td>5200</td>\n",
       "      <td>2016-03-15</td>\n",
       "      <td>Soltero</td>\n",
       "    </tr>\n",
       "    <tr>\n",
       "      <th>2</th>\n",
       "      <td>Carlos Ramírez</td>\n",
       "      <td>42</td>\n",
       "      <td>Finanzas</td>\n",
       "      <td>6100</td>\n",
       "      <td>2012-11-22</td>\n",
       "      <td>Casado</td>\n",
       "    </tr>\n",
       "    <tr>\n",
       "      <th>3</th>\n",
       "      <td>Ana González</td>\n",
       "      <td>25</td>\n",
       "      <td>Desarrollo</td>\n",
       "      <td>4800</td>\n",
       "      <td>2020-01-03</td>\n",
       "      <td>Soltero</td>\n",
       "    </tr>\n",
       "    <tr>\n",
       "      <th>4</th>\n",
       "      <td>Lucía Fernández</td>\n",
       "      <td>29</td>\n",
       "      <td>Soporte Técnico</td>\n",
       "      <td>4300</td>\n",
       "      <td>2018-07-19</td>\n",
       "      <td>Casado</td>\n",
       "    </tr>\n",
       "  </tbody>\n",
       "</table>\n",
       "</div>"
      ],
      "text/plain": [
       "            nombre  edad      departamento  salario_mensual  \\\n",
       "0       Juan Pérez    28  Recursos Humanos             4500   \n",
       "1      María López    34         Marketing             5200   \n",
       "2   Carlos Ramírez    42          Finanzas             6100   \n",
       "3     Ana González    25        Desarrollo             4800   \n",
       "4  Lucía Fernández    29   Soporte Técnico             4300   \n",
       "\n",
       "  fecha_contratacion estado_civil  \n",
       "0         2019-05-10       Casado  \n",
       "1         2016-03-15      Soltero  \n",
       "2         2012-11-22       Casado  \n",
       "3         2020-01-03      Soltero  \n",
       "4         2018-07-19       Casado  "
      ]
     },
     "execution_count": 16,
     "metadata": {},
     "output_type": "execute_result"
    }
   ],
   "source": [
    "\n",
    "# 2.1 Carga del dataset\n",
    "import pandas as pd\n",
    "\n",
    "ruta_empleados = \"empleados.csv\"\n",
    "df = pd.read_csv(ruta_empleados)\n",
    "\n",
    "print(\"Dataset cargado. Dimensiones:\", df.shape)\n",
    "df.head()\n"
   ]
  },
  {
   "cell_type": "markdown",
   "id": "8c74e7db",
   "metadata": {},
   "source": [
    "\n",
    "### 2.2 Análisis exploratorio de Datos (EDA)\n",
    "- Descripción de los datos\n",
    "- Visualización de datos faltantes\n"
   ]
  },
  {
   "cell_type": "code",
   "execution_count": 19,
   "id": "305e2363",
   "metadata": {},
   "outputs": [
    {
     "name": "stdout",
     "output_type": "stream",
     "text": [
      "            edad  salario_mensual\n",
      "count  10.000000        10.000000\n",
      "mean   32.800000      5160.000000\n",
      "std     6.713171       965.171257\n",
      "min    25.000000      4000.000000\n",
      "25%    28.250000      4525.000000\n",
      "50%    31.000000      4850.000000\n",
      "75%    36.250000      5875.000000\n",
      "max    45.000000      7000.000000\n"
     ]
    }
   ],
   "source": [
    "# Descripción estadística del conjunto de datos\n",
    "print(df.describe())"
   ]
  },
  {
   "cell_type": "code",
   "execution_count": 20,
   "id": "b5de4762",
   "metadata": {},
   "outputs": [
    {
     "data": {
      "text/plain": [
       "nombre                0\n",
       "edad                  0\n",
       "departamento          0\n",
       "salario_mensual       0\n",
       "fecha_contratacion    0\n",
       "estado_civil          0\n",
       "dtype: int64"
      ]
     },
     "execution_count": 20,
     "metadata": {},
     "output_type": "execute_result"
    }
   ],
   "source": [
    "\n",
    "# Conteo de valores faltantes\n",
    "df.isnull().sum()\n"
   ]
  },
  {
   "cell_type": "markdown",
   "id": "dc97b5d1",
   "metadata": {},
   "source": [
    "\n",
    "### 2.3 Limpieza de datos\n",
    "- Eliminación de nulos\n",
    "- Eliminación de duplicados\n"
   ]
  },
  {
   "cell_type": "code",
   "execution_count": 28,
   "id": "c45d90a3",
   "metadata": {},
   "outputs": [
    {
     "name": "stdout",
     "output_type": "stream",
     "text": [
      "Datos limpios:\n",
      "            nombre  edad      departamento  salario_mensual  \\\n",
      "0       Juan Pérez    28  Recursos Humanos             4500   \n",
      "1      María López    34         Marketing             5200   \n",
      "2   Carlos Ramírez    42          Finanzas             6100   \n",
      "3     Ana González    25        Desarrollo             4800   \n",
      "4  Lucía Fernández    29   Soporte Técnico             4300   \n",
      "\n",
      "  fecha_contratacion estado_civil  \n",
      "0         2019-05-10       Casado  \n",
      "1         2016-03-15      Soltero  \n",
      "2         2012-11-22       Casado  \n",
      "3         2020-01-03      Soltero  \n",
      "4         2018-07-19       Casado  \n"
     ]
    }
   ],
   "source": [
    "# Eliminar filas con datos faltantes\n",
    "df_cleaned = df.dropna()\n",
    "\n",
    "# Eliminar filas duplicadas\n",
    "df_cleaned = df_cleaned.drop_duplicates()\n",
    "\n",
    "print(\"Datos limpios:\")\n",
    "print(df_cleaned.head())\n"
   ]
  },
  {
   "cell_type": "markdown",
   "id": "59d7959b",
   "metadata": {},
   "source": [
    "\n",
    "### 2.4 Transformación de datos\n",
    "- Crear columna `salario_anual = salario_mensual * 12`\n"
   ]
  },
  {
   "cell_type": "code",
   "execution_count": 30,
   "id": "f71a53da",
   "metadata": {},
   "outputs": [
    {
     "name": "stdout",
     "output_type": "stream",
     "text": [
      "            nombre  salario_mensual  salario_anual\n",
      "0       Juan Pérez             4500          54000\n",
      "1      María López             5200          62400\n",
      "2   Carlos Ramírez             6100          73200\n",
      "3     Ana González             4800          57600\n",
      "4  Lucía Fernández             4300          51600\n"
     ]
    }
   ],
   "source": [
    "# Agregar una columna de salario anual basado en el salario mensual\n",
    "df_cleaned['salario_anual'] = df_cleaned['salario_mensual'] * 12\n",
    "print(df_cleaned[['nombre', 'salario_mensual', 'salario_anual']].head())"
   ]
  },
  {
   "cell_type": "markdown",
   "id": "377377f6",
   "metadata": {},
   "source": [
    "## Parte 3 — Procesamiento numérico con NumPy\n",
    "\n",
    "### 3.1 Crear Arrays NumPy"
   ]
  },
  {
   "cell_type": "code",
   "execution_count": 41,
   "id": "bd06e99f",
   "metadata": {},
   "outputs": [
    {
     "name": "stdout",
     "output_type": "stream",
     "text": [
      "Total de ingresos anuales con bonificación: [55000 63600 74000 58550 52700]\n"
     ]
    }
   ],
   "source": [
    "# Crear arrays de NumPy\n",
    "salario_mensual = np.array(df_cleaned['salario_mensual'])\n",
    "bono_anual = np.array([1000, 1200, 800, 950, 1100])  # ejemplo de bonificaciones\n",
    "\n",
    "# Calcular ingresos para los primeros 5 empleados (coincide con el tamaño del bono)\n",
    "total_ingresos = salario_mensual[:bono_anual.size] * 12 + bono_anual\n",
    "print('Total de ingresos anuales con bonificación:', total_ingresos)\n"
   ]
  },
  {
   "cell_type": "markdown",
   "id": "3d1d270e",
   "metadata": {},
   "source": [
    "### 3.2 Operaciones Matemáticas Avanzadas"
   ]
  },
  {
   "cell_type": "code",
   "execution_count": 39,
   "id": "fcf17dcd",
   "metadata": {},
   "outputs": [
    {
     "name": "stdout",
     "output_type": "stream",
     "text": [
      "Salario promedio: 5160.0\n",
      "Mediana del salario: 4850.0\n",
      "Desviación estándar del salario: 915.6418513807678\n"
     ]
    }
   ],
   "source": [
    "# Estadísticas básicas\n",
    "print('Salario promedio:', np.mean(salario_mensual))\n",
    "print('Mediana del salario:', np.median(salario_mensual))\n",
    "print('Desviación estándar del salario:', np.std(salario_mensual))"
   ]
  },
  {
   "cell_type": "markdown",
   "id": "16f5d601",
   "metadata": {},
   "source": [
    "\n",
    "## Parte 4 — Procesamiento de Grandes Volúmenes de Datos con Dask"
   ]
  },
  {
   "cell_type": "markdown",
   "id": "41a2a585",
   "metadata": {},
   "source": [
    "\n",
    "### 4.1 Cargar un gran conjunto de da Datos con Dask\n",
    "\n",
    "> Primero **generaremos** un archivo grande `empleados_grandes.csv` y luego lo **cargaremos con Dask**.\n"
   ]
  },
  {
   "cell_type": "code",
   "execution_count": 44,
   "id": "f85f88af",
   "metadata": {},
   "outputs": [
    {
     "name": "stdout",
     "output_type": "stream",
     "text": [
      "Archivo 'empleados_grandes.csv' generado con éxito, con 10000 registros\n"
     ]
    }
   ],
   "source": [
    "# Definir parámetros\n",
    "n = 10000 # Número de registros\n",
    "\n",
    "# Crear datos aleatorios\n",
    "np.random.seed(0)\n",
    "\n",
    "nombres = ['Juan Pérez', 'María López', 'Carlos Ramírez', 'Ana González',\n",
    "           'Lucía Fernández', 'Luis Martínez', 'Patricia Gómez', 'Jorge Sánchez',\n",
    "           'Andrea Pérez', 'Pedro Ruiz', 'Juan García', 'Carla Mena',\n",
    "           'Raúl Torres', 'Marta Rivera']\n",
    "departamentos = ['Recursos Humanos', 'Marketing', 'Finanzas', 'Desarrollo',\n",
    "'Soporte Técnico']\n",
    "estados_civiles = ['Casado', 'Soltero', 'Viudo', 'Divorciado']\n",
    "\n",
    "# Generar DataFrame con datos aleatorios\n",
    "data = {\n",
    "    'nombre': np.random.choice(nombres, n),\n",
    "    'edad': np.random.randint(22, 60, size=n),\n",
    "    'departamento': np.random.choice(departamentos, n),\n",
    "    'salario_mensual': np.random.randint(3500, 8000, size=n),\n",
    "    'fecha_contratacion': pd.to_datetime(np.random.choice(pd.date_range('2005-01-01', '2023-01-01'), n)),\n",
    "    'estado_civil': np.random.choice(estados_civiles, n)\n",
    "}\n",
    "\n",
    "df_grande = pd.DataFrame(data)\n",
    "\n",
    "# Guardar a un archivo CSV\n",
    "df_grande.to_csv('empleados_grandes.csv', index=False)\n",
    "print(\"Archivo 'empleados_grandes.csv' generado con éxito, con\", len(df_grande), \"registros\")"
   ]
  },
  {
   "cell_type": "markdown",
   "id": "189c3663",
   "metadata": {},
   "source": [
    "\n",
    "### 4.1 Cargar el CSV grande con Dask\n"
   ]
  },
  {
   "cell_type": "code",
   "execution_count": 45,
   "id": "f9725172",
   "metadata": {},
   "outputs": [
    {
     "data": {
      "text/html": [
       "<div>\n",
       "<style scoped>\n",
       "    .dataframe tbody tr th:only-of-type {\n",
       "        vertical-align: middle;\n",
       "    }\n",
       "\n",
       "    .dataframe tbody tr th {\n",
       "        vertical-align: top;\n",
       "    }\n",
       "\n",
       "    .dataframe thead th {\n",
       "        text-align: right;\n",
       "    }\n",
       "</style>\n",
       "<table border=\"1\" class=\"dataframe\">\n",
       "  <thead>\n",
       "    <tr style=\"text-align: right;\">\n",
       "      <th></th>\n",
       "      <th>nombre</th>\n",
       "      <th>edad</th>\n",
       "      <th>departamento</th>\n",
       "      <th>salario_mensual</th>\n",
       "      <th>fecha_contratacion</th>\n",
       "      <th>estado_civil</th>\n",
       "    </tr>\n",
       "  </thead>\n",
       "  <tbody>\n",
       "    <tr>\n",
       "      <th>0</th>\n",
       "      <td>Raúl Torres</td>\n",
       "      <td>59</td>\n",
       "      <td>Recursos Humanos</td>\n",
       "      <td>6857</td>\n",
       "      <td>2016-06-21</td>\n",
       "      <td>Casado</td>\n",
       "    </tr>\n",
       "    <tr>\n",
       "      <th>1</th>\n",
       "      <td>Luis Martínez</td>\n",
       "      <td>36</td>\n",
       "      <td>Finanzas</td>\n",
       "      <td>4349</td>\n",
       "      <td>2017-02-23</td>\n",
       "      <td>Soltero</td>\n",
       "    </tr>\n",
       "    <tr>\n",
       "      <th>2</th>\n",
       "      <td>Juan Pérez</td>\n",
       "      <td>24</td>\n",
       "      <td>Finanzas</td>\n",
       "      <td>3579</td>\n",
       "      <td>2007-03-04</td>\n",
       "      <td>Soltero</td>\n",
       "    </tr>\n",
       "    <tr>\n",
       "      <th>3</th>\n",
       "      <td>Ana González</td>\n",
       "      <td>38</td>\n",
       "      <td>Marketing</td>\n",
       "      <td>7457</td>\n",
       "      <td>2015-05-08</td>\n",
       "      <td>Casado</td>\n",
       "    </tr>\n",
       "    <tr>\n",
       "      <th>4</th>\n",
       "      <td>Carla Mena</td>\n",
       "      <td>53</td>\n",
       "      <td>Desarrollo</td>\n",
       "      <td>5946</td>\n",
       "      <td>2015-12-26</td>\n",
       "      <td>Casado</td>\n",
       "    </tr>\n",
       "  </tbody>\n",
       "</table>\n",
       "</div>"
      ],
      "text/plain": [
       "          nombre  edad      departamento  salario_mensual fecha_contratacion  \\\n",
       "0    Raúl Torres    59  Recursos Humanos             6857         2016-06-21   \n",
       "1  Luis Martínez    36          Finanzas             4349         2017-02-23   \n",
       "2     Juan Pérez    24          Finanzas             3579         2007-03-04   \n",
       "3   Ana González    38         Marketing             7457         2015-05-08   \n",
       "4     Carla Mena    53        Desarrollo             5946         2015-12-26   \n",
       "\n",
       "  estado_civil  \n",
       "0       Casado  \n",
       "1      Soltero  \n",
       "2      Soltero  \n",
       "3       Casado  \n",
       "4       Casado  "
      ]
     },
     "execution_count": 45,
     "metadata": {},
     "output_type": "execute_result"
    }
   ],
   "source": [
    "# Crear un DataFrame Dask a partir de un archivo CSV\n",
    "ddf = dd.read_csv('empleados_grandes.csv')\n",
    "\n",
    "# Mostrar las primeras filas\n",
    "ddf.head()"
   ]
  },
  {
   "cell_type": "markdown",
   "id": "9f368db3",
   "metadata": {},
   "source": [
    "\n",
    "### 4.2 Procesamiento Distribuido de Datos\n"
   ]
  },
  {
   "cell_type": "code",
   "execution_count": 47,
   "id": "60bf3973",
   "metadata": {},
   "outputs": [
    {
     "name": "stdout",
     "output_type": "stream",
     "text": [
      "Salario mensual promedio (calculado con Dask): 5737.713\n"
     ]
    }
   ],
   "source": [
    "\n",
    "# Media (promedio) de salario_mensual\n",
    "mean_salary = ddf['salario_mensual'].mean().compute()\n",
    "\n",
    "print(\"Salario mensual promedio (calculado con Dask):\", mean_salary)\n"
   ]
  },
  {
   "cell_type": "markdown",
   "id": "fa666aa0",
   "metadata": {},
   "source": [
    "### 4.3 Aplicar Operaciones de Filtrado y Agregación"
   ]
  },
  {
   "cell_type": "code",
   "execution_count": 48,
   "id": "22530541",
   "metadata": {},
   "outputs": [
    {
     "name": "stdout",
     "output_type": "stream",
     "text": [
      "Número de empleados con salario mayor a 5000: 6615\n"
     ]
    }
   ],
   "source": [
    "# Filtrar empleados con salario > 5000\n",
    "high_salary = ddf[ddf['salario_mensual'] > 5000]\n",
    "\n",
    "# Contar el número de empleados con salarios altos\n",
    "num_high_salary = high_salary.shape[0].compute()\n",
    "\n",
    "print(\"Número de empleados con salario mayor a 5000:\", num_high_salary)"
   ]
  },
  {
   "cell_type": "markdown",
   "id": "63d35a80",
   "metadata": {},
   "source": [
    "\n",
    "## Parte 5 — Conclusión y reflexión"
   ]
  },
  {
   "cell_type": "markdown",
   "id": "b1a74d68",
   "metadata": {},
   "source": [
    "---\n",
    "**Preguntas guía:**\n",
    "\n",
    "- ¿Qué beneficios ofrece el uso de herramientas como Pandas, NumPy y Dask en el análisis de datos?\n",
    "\n",
    "    El uso de herramientas como Pandas, NumPy y Dask ofrece grandes ventajas en el análisis de datos.  \n",
    "    Pandas facilita la manipulación, limpieza y transformación de datos mediante estructuras como los DataFrames, que permiten trabajar con información tabular de forma intuitiva y eficiente.  \n",
    "    NumPy proporciona operaciones matemáticas y estadísticas de alto rendimiento gracias a sus arreglos multidimensionales (arrays), optimizados en memoria y velocidad.  \n",
    "    Por su parte, Dask amplía la capacidad de Pandas y NumPy, permitiendo procesar conjuntos de datos más grandes que la memoria del equipo, distribuyendo el trabajo en múltiples núcleos o máquinas.  \n",
    "    En conjunto, estas bibliotecas reducen el tiempo de desarrollo, mejoran la eficiencia del análisis y hacen posible manejar datos desde pequeños hasta masivos con facilidad.\n",
    "\n",
    "- ¿Cómo se pueden aplicar estas herramientas en escenarios del mundo real?\n",
    "\n",
    "    Estas herramientas se aplican ampliamente en entornos reales de ciencia de datos, análisis empresarial y aprendizaje automático.  \n",
    "    Por ejemplo, Pandas se usa en el análisis de ventas y comportamiento de clientes, NumPy en modelos estadísticos y cálculos numéricos, y Dask en proyectos de Big Data donde se requiere procesar millones de registros provenientes de sensores, redes sociales o transacciones financieras.  \n",
    "    También son útiles en la limpieza de datos para modelos de inteligencia artificial, la optimización de procesos industriales y la predicción de tendencias en sectores como salud, educación, finanzas o energía.  \n",
    "    En resumen, permiten transformar grandes volúmenes de datos en información útil para la toma de decisiones estratégicas."
   ]
  },
  {
   "cell_type": "markdown",
   "id": "06211d14",
   "metadata": {},
   "source": [
    "---\n",
    "**Preguntas de discusión**\n",
    "\n",
    "- ¿Cuáles son las limitaciones de Pandas y NumPy en comparación con Dask\n",
    "para el procesamiento de Big Data?\n",
    "\n",
    "    Las principales limitaciones de Pandas y NumPy son su dependencia de la memoria RAM y su ejecución en un solo hilo de procesamiento (single-thread).  \n",
    "    Aunque son muy eficientes con conjuntos de datos medianos, su rendimiento disminuye o se vuelve inviable con volúmenes muy grandes de información.  \n",
    "    En cambio, Dask permite dividir los datos en fragmentos más pequeños y procesarlos en paralelo, aprovechando múltiples núcleos o equipos, lo que lo hace ideal para el procesamiento distribuido y análisis de Big Data.\n",
    "\n",
    "\n",
    "- ¿Qué consideraciones se deben tener en cuenta al elegir una herramienta\n",
    "para un proyecto de análisis de datos?\n",
    "\n",
    "    Al elegir una herramienta, se deben considerar:\n",
    "\n",
    "    - Tamaño del conjunto de datos: Pandas y NumPy son ideales para datos pequeños o medianos; Dask para volúmenes grandes.  \n",
    "    - Recursos del sistema: Si se cuenta con memoria limitada o se requiere escalabilidad, Dask es la mejor opción.  \n",
    "    - Tipo de análisis: NumPy es óptimo para cálculos numéricos; Pandas para manipulación tabular; Dask para procesamiento paralelo.  \n",
    "    - Facilidad de uso y rendimiento: Es importante equilibrar la complejidad del entorno con la velocidad y precisión requerida.  \n",
    "\n",
    "    En conclusión, la elección depende del contexto del proyecto, el tamaño de los datos y los objetivos del análisis."
   ]
  }
 ],
 "metadata": {
  "kernelspec": {
   "display_name": ".venv",
   "language": "python",
   "name": "python3"
  },
  "language_info": {
   "codemirror_mode": {
    "name": "ipython",
    "version": 3
   },
   "file_extension": ".py",
   "mimetype": "text/x-python",
   "name": "python",
   "nbconvert_exporter": "python",
   "pygments_lexer": "ipython3",
   "version": "3.12.2"
  }
 },
 "nbformat": 4,
 "nbformat_minor": 5
}
