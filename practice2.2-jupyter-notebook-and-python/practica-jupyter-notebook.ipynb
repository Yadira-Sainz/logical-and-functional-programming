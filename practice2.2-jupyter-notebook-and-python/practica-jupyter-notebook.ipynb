{
 "cells": [
  {
   "cell_type": "markdown",
   "id": "c4aa0ffd",
   "metadata": {},
   "source": [
    "# Práctica: Introducción al uso de Jupyter y Python\n",
    "## Objetivo\n",
    "Familiarizarse con el entorno de **Jupyter Notebook** y aprender los fundamentos de **Python** mediante ejemplos sencillos."
   ]
  },
  {
   "cell_type": "markdown",
   "id": "fadc022c",
   "metadata": {},
   "source": [
    "## 4. Escribir y ejecutar tu primer código Python"
   ]
  },
  {
   "cell_type": "code",
   "execution_count": 1,
   "id": "cf2597e5",
   "metadata": {},
   "outputs": [
    {
     "name": "stdout",
     "output_type": "stream",
     "text": [
      "Hola soy Jupyter\n"
     ]
    }
   ],
   "source": [
    "print(\"Hola soy Jupyter\")"
   ]
  },
  {
   "cell_type": "markdown",
   "id": "5cea4b04",
   "metadata": {},
   "source": [
    "## 5. Uso de variables y operadores básicos en Python\n",
    "\n",
    "### Ejercicio\n",
    "Cambia los valores de `a` y `b` y ejecuta nuevamente el código para observar\n",
    "los nuevos resultados."
   ]
  },
  {
   "cell_type": "code",
   "execution_count": 2,
   "id": "4742fb81",
   "metadata": {},
   "outputs": [
    {
     "name": "stdout",
     "output_type": "stream",
     "text": [
      "Suma: 24\n",
      "Resta: 16\n",
      "Multiplicación: 80\n",
      "División: 5.0\n"
     ]
    }
   ],
   "source": [
    "# Declarar variables\n",
    "a = 20 #10\n",
    "b = 4 #5\n",
    "\n",
    "# Realizar operaciones\n",
    "suma = a + b\n",
    "resta = a - b\n",
    "multiplicacion = a * b\n",
    "division = a / b\n",
    "\n",
    "# Mostrar resultados\n",
    "print(\"Suma:\", suma)\n",
    "print(\"Resta:\", resta)\n",
    "print(\"Multiplicación:\", multiplicacion)\n",
    "print(\"División:\", division)"
   ]
  },
  {
   "cell_type": "markdown",
   "id": "71d2eb77",
   "metadata": {},
   "source": [
    "## 6. Uso de estructuras de control en Python\n",
    "\n",
    "### Ejercicio\n",
    "Cambia los valores de `x` y el rango del bucle y observa cómo se modifica el comportamiento del programa."
   ]
  },
  {
   "cell_type": "code",
   "execution_count": 3,
   "id": "5e410b20",
   "metadata": {},
   "outputs": [
    {
     "name": "stdout",
     "output_type": "stream",
     "text": [
      "x es menor o igual que 10\n",
      "Iteración número 0\n",
      "Iteración número 1\n",
      "Iteración número 2\n",
      "Iteración número 3\n",
      "Iteración número 4\n",
      "Iteración número 5\n",
      "Iteración número 6\n",
      "Iteración número 7\n"
     ]
    }
   ],
   "source": [
    "# Condicional\n",
    "# x = 15\n",
    "x = 8\n",
    "\n",
    "if x > 10:\n",
    "    print(\"x es mayor que 10\")\n",
    "else:\n",
    "    print(\"x es menor o igual que 10\")\n",
    "\n",
    "# Bucle for\n",
    "# for i in range(5):\n",
    "for i in range(8):\n",
    "    print(f\"Iteración número {i}\")"
   ]
  },
  {
   "cell_type": "markdown",
   "id": "6a9ee496",
   "metadata": {},
   "source": [
    "# Mi práctica con Python\n",
    "Este cuaderno contiene ejemplos básicos de código en Python."
   ]
  },
  {
   "cell_type": "markdown",
   "id": "1b088630",
   "metadata": {},
   "source": [
    "## 8. Funciones en Python"
   ]
  },
  {
   "cell_type": "code",
   "execution_count": 4,
   "id": "b7afac20",
   "metadata": {},
   "outputs": [
    {
     "name": "stdout",
     "output_type": "stream",
     "text": [
      "El área del rectángulo es 21\n"
     ]
    }
   ],
   "source": [
    "def calcular_area_rectangulo(base, altura):\n",
    "    area = base * altura\n",
    "    return area\n",
    "\n",
    "# Usar la función\n",
    "base = 7\n",
    "altura = 3\n",
    "area = calcular_area_rectangulo(base, altura)\n",
    "print(f\"El área del rectángulo es {area}\")"
   ]
  },
  {
   "cell_type": "markdown",
   "id": "e4d65f37",
   "metadata": {},
   "source": [
    "### Ejercicio\n",
    "Define una nueva función que calcule el **perímetro** de un rectángulo."
   ]
  },
  {
   "cell_type": "code",
   "execution_count": 5,
   "id": "817660a4",
   "metadata": {},
   "outputs": [
    {
     "name": "stdout",
     "output_type": "stream",
     "text": [
      "El perímetro del rectángulo es 20\n"
     ]
    }
   ],
   "source": [
    "def calcular_perimetro_rectangulo(base, altura):\n",
    "    \"\"\"Devuelve el perímetro de un rectángulo dado su base y altura.\"\"\"\n",
    "    return 2 * (base + altura)\n",
    "\n",
    "# Ejemplo de uso\n",
    "base = 7\n",
    "altura = 3\n",
    "perimetro = calcular_perimetro_rectangulo(base, altura)\n",
    "print(f\"El perímetro del rectángulo es {perimetro}\")"
   ]
  },
  {
   "cell_type": "markdown",
   "id": "8d230622",
   "metadata": {},
   "source": [
    "## 9. Uso de bibliotecas en Python"
   ]
  },
  {
   "cell_type": "code",
   "execution_count": 6,
   "id": "c48512e1",
   "metadata": {},
   "outputs": [
    {
     "name": "stdout",
     "output_type": "stream",
     "text": [
      "La raíz cuadrada de 25 es 5.0\n",
      "El valor de pi es 3.141592653589793\n"
     ]
    }
   ],
   "source": [
    "import math\n",
    "\n",
    "# Calcular la raíz cuadrada de un número\n",
    "numero = 25\n",
    "raiz_cuadrada = math.sqrt(numero)\n",
    "print(f\"La raíz cuadrada de {numero} es {raiz_cuadrada}\")\n",
    "\n",
    "# Calcular el valor de pi\n",
    "print(f\"El valor de pi es {math.pi}\")"
   ]
  },
  {
   "cell_type": "markdown",
   "id": "7d3312e3",
   "metadata": {},
   "source": [
    "### Ejercicio\n",
    "Usa la función `math.pow()` para calcular el cuadrado de un número."
   ]
  },
  {
   "cell_type": "code",
   "execution_count": 7,
   "id": "dfebd4bd",
   "metadata": {},
   "outputs": [
    {
     "name": "stdout",
     "output_type": "stream",
     "text": [
      "El cuadrado de 6 usando math.pow() es 36.0\n"
     ]
    }
   ],
   "source": [
    "import math\n",
    "\n",
    "numero = 6  # cambia este valor para probar con otros números\n",
    "cuadrado = math.pow(numero, 2)\n",
    "print(f\"El cuadrado de {numero} usando math.pow() es {cuadrado}\")"
   ]
  },
  {
   "cell_type": "markdown",
   "id": "169fd02a",
   "metadata": {},
   "source": [
    "## 10. Graficar datos con matplotlib\n",
    "\n",
    "### Ejercicio\n",
    "Modifica los datos `x` y `y` para crear nuevas gráficas."
   ]
  },
  {
   "cell_type": "code",
   "execution_count": 8,
   "id": "4cbab1bd",
   "metadata": {},
   "outputs": [
    {
     "data": {
      "image/png": "[encoded data removed]",
      "text/plain": [
       "<Figure size 640x480 with 1 Axes>"
      ]
     },
     "metadata": {},
     "output_type": "display_data"
    }
   ],
   "source": [
    "import matplotlib.pyplot as plt\n",
    "\n",
    "# Datos de ejemplo\n",
    "# x = [1, 2, 3, 4, 5]\n",
    "# y = [1, 4, 9, 16, 25]\n",
    "\n",
    "# Nuevos valores\n",
    "x = [0, 1, 2, 3, 4, 5, 6]\n",
    "y = [0, 1, 4, 9, 16, 25, 36]\n",
    "\n",
    "# Crear la gráfica (añadido marcador y grid para mejor visualización)\n",
    "plt.plot(x, y, marker='o')\n",
    "plt.title(\"Gráfica de ejemplo modificada\")\n",
    "plt.xlabel(\"Eje X\")\n",
    "plt.ylabel(\"Eje Y\")\n",
    "plt.grid(True)\n",
    "plt.show()"
   ]
  },
  {
   "cell_type": "markdown",
   "id": "35546d9b",
   "metadata": {},
   "source": [
    "# Ejercicios adicionales\n",
    "\n",
    "Aprender y probar nuevas funcionalidades de los cuadernos Jupyter con los siguientes ejercicios."
   ]
  },
  {
   "cell_type": "markdown",
   "id": "353b42bb",
   "metadata": {},
   "source": [
    "### Ejercicio A: Tipos y comprobaciones simples\n",
    "\n",
    "Observa ejemplos de distintas variables y usa `type()` e `isinstance()` para comprobar sus tipos.\n",
    "Modifica los valores y comprueba cómo cambian los resultados."
   ]
  },
  {
   "cell_type": "code",
   "execution_count": 16,
   "id": "ce318cec",
   "metadata": {},
   "outputs": [
    {
     "name": "stdout",
     "output_type": "stream",
     "text": [
      "Tipos:\n",
      "n -> <class 'int'>\n",
      "pi -> <class 'float'>\n",
      "texto -> <class 'str'>\n",
      "lista -> <class 'list'>\n",
      "\n",
      "Comprobaciones con isinstance:\n",
      "n es int? True\n",
      "pi es float? True\n",
      "texto es str? True\n"
     ]
    }
   ],
   "source": [
    "# Ejercicio A: Tipos y comprobaciones simples\n",
    "n = 10\n",
    "pi = 3.14\n",
    "texto = 'hola'\n",
    "lista = [1, 2, 3]\n",
    "\n",
    "print('Tipos:')\n",
    "print('n ->', type(n))\n",
    "print('pi ->', type(pi))\n",
    "print('texto ->', type(texto))\n",
    "print('lista ->', type(lista))\n",
    "\n",
    "print('\\nComprobaciones con isinstance:')\n",
    "print('n es int?', isinstance(n, int))\n",
    "print('pi es float?', isinstance(pi, float))\n",
    "print(\"texto es str?\", isinstance(texto, str))"
   ]
  },
  {
   "cell_type": "markdown",
   "id": "fe00b2ce",
   "metadata": {},
   "source": [
    "### Ejercicio B: Operaciones con listas y diccionarios\n",
    "\n",
    "Ejecuta operaciones sencillas: añadir, eliminar y leer elementos de una lista y un diccionario.\n",
    "Observa cómo se actualizan las estructuras tras cada operación."
   ]
  },
  {
   "cell_type": "code",
   "execution_count": 15,
   "id": "02f17871",
   "metadata": {},
   "outputs": [
    {
     "name": "stdout",
     "output_type": "stream",
     "text": [
      "Frutas: ['manzana', 'banana', 'pera']\n",
      "Precio manzana: 10\n",
      "Precios actualizados: {'manzana': 10, 'banana': 8, 'pera': 12}\n",
      "Frutas después de pop: ['manzana', 'pera']\n"
     ]
    }
   ],
   "source": [
    "frutas = ['manzana', 'banana']\n",
    "frutas.append('pera')\n",
    "print('Frutas:', frutas)\n",
    "\n",
    "precios = {'manzana': 10, 'banana': 8}\n",
    "print('Precio manzana:', precios['manzana'])\n",
    "precios['pera'] = 12\n",
    "print('Precios actualizados:', precios)\n",
    "\n",
    "frutas.pop(1)\n",
    "print('Frutas después de pop:', frutas)"
   ]
  },
  {
   "cell_type": "markdown",
   "id": "a47e967b",
   "metadata": {},
   "source": [
    "### Ejercicio C: Escribir expresiones matemáticas (LaTeX) en Markdown\n",
    "\n",
    "Escribe fórmulas en Markdown para que Jupyter las renderice. Por ejemplo:\n",
    "\n",
    "$$E = mc^2$$\n",
    "\n",
    "o inline: $\\alpha + \\beta = \\gamma$"
   ]
  },
  {
   "cell_type": "markdown",
   "id": "55994d20",
   "metadata": {},
   "source": [
    "### Ejercicio D: Mostrar imágenes y contenido multimedia\n",
    "\n",
    "Usa IPython.display para mostrar imágenes desde una URL o archivo local."
   ]
  },
  {
   "cell_type": "code",
   "execution_count": 11,
   "id": "7d438704",
   "metadata": {},
   "outputs": [
    {
     "data": {
      "text/html": [
       "<img src=\"https://www.python.org/static/community_logos/python-logo.png\" width=\"200\"/>"
      ],
      "text/plain": [
       "<IPython.core.display.Image object>"
      ]
     },
     "metadata": {},
     "output_type": "display_data"
    },
    {
     "data": {
      "text/html": [
       "<b>Imagen mostrada con IPython.display</b>"
      ],
      "text/plain": [
       "<IPython.core.display.HTML object>"
      ]
     },
     "metadata": {},
     "output_type": "display_data"
    }
   ],
   "source": [
    "from IPython.display import Image, display, HTML\n",
    "\n",
    "# Mostrar imagen desde URL\n",
    "url = 'https://www.python.org/static/community_logos/python-logo.png'\n",
    "display(Image(url=url, width=200))\n",
    "\n",
    "# Mostrar HTML simple\n",
    "display(HTML('<b>Imagen mostrada con IPython.display</b>'))"
   ]
  },
  {
   "cell_type": "markdown",
   "id": "b5d4a852",
   "metadata": {},
   "source": [
    "### Ejercicio E: Función simple y uso de map\n",
    "\n",
    "Define una función que salude a una persona y aplica `map()` para generar saludos para una lista de nombres.\n",
    "Modifica la función o la lista para ver diferentes salidas."
   ]
  },
  {
   "cell_type": "code",
   "execution_count": 14,
   "id": "c05918f6",
   "metadata": {},
   "outputs": [
    {
     "name": "stdout",
     "output_type": "stream",
     "text": [
      "Hola, Ana!\n",
      "Hola, Luis!\n",
      "Hola, María!\n"
     ]
    }
   ],
   "source": [
    "def saludo(nombre):\n",
    "    return f'Hola, {nombre}!'\n",
    "\n",
    "nombres = ['Ana', 'Luis', 'María']\n",
    "saludos = list(map(saludo, nombres))\n",
    "for s in saludos:\n",
    "    print(s)"
   ]
  }
 ],
 "metadata": {
  "kernelspec": {
   "display_name": "Python 3",
   "language": "python",
   "name": "python3"
  },
  "language_info": {
   "codemirror_mode": {
    "name": "ipython",
    "version": 3
   },
   "file_extension": ".py",
   "mimetype": "text/x-python",
   "name": "python",
   "nbconvert_exporter": "python",
   "pygments_lexer": "ipython3",
   "version": "3.12.2"
  }
 },
 "nbformat": 4,
 "nbformat_minor": 5
}
